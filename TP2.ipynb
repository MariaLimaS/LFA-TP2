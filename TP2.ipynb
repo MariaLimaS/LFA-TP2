{
  "nbformat": 4,
  "nbformat_minor": 0,
  "metadata": {
    "colab": {
      "provenance": [],
      "authorship_tag": "ABX9TyPAaG0k2D3/ehFwTID2ttKD",
      "include_colab_link": true
    },
    "kernelspec": {
      "name": "python3",
      "display_name": "Python 3"
    },
    "language_info": {
      "name": "python"
    }
  },
  "cells": [
    {
      "cell_type": "markdown",
      "metadata": {
        "id": "view-in-github",
        "colab_type": "text"
      },
      "source": [
        "<a href=\"https://colab.research.google.com/github/MariaLimaS/LFA-TP2/blob/main/TP2.ipynb\" target=\"_parent\"><img src=\"https://colab.research.google.com/assets/colab-badge.svg\" alt=\"Open In Colab\"/></a>"
      ]
    },
    {
      "cell_type": "markdown",
      "source": [
        "# **Implementação de um algoritmo que simule um AFND**\n",
        "\n",
        "Este algoritmo simula o comportamento de um autômato finito não determinístico (AFND) dado um conjunto de estados, um alfabeto, regras de transição, um estado inicial e um conjunto de estados finais. A função recebe como entrada uma lista de palavras de teste e, para cada palavra, aplica-se as regras do AFND para determinar se a palavra é aceita ou rejeitada pelo mesmo e pertence ou não a linguagem.Para cada palavra de teste, a função \"simula_afnd\" realiza a simulação do AFND. Inicialmente, o conjunto de estados atingíveis é definido como contendo apenas o estado inicial.Em seguida, para cada símbolo da palavra de teste, a função busca todas as transições possíveis a partir dos estados atingíveis no momento e com o símbolo atual. Esse novos estados atingíveis encontrados são adicionados a um novo conjunto de estados atingíveis, que é\n",
        "atualizado a cada loop de símbolos da palavra de teste.\n",
        "Finalizando verificando se algum estado atingível é um estado final."
      ],
      "metadata": {
        "id": "HI8mTr4RIdgx"
      }
    },
    {
      "cell_type": "markdown",
      "source": [
        "# **Estrututas de dados**\n",
        "\n",
        "O algoritmo utiliza as seguintes estruturas de dados:\n",
        "\n",
        "*Listas* : As listas são utilizadas para armazenar as informações de entrada, como os estados, o alfabeto, as transições e as palavras de teste.\n",
        "\n",
        "- estados é uma lista de strings de nomes dos estados do AFND.\n",
        "-alfabeto é uma lista de strings de símbolos do alfabeto do AFND.\n",
        "- transicoes é uma lista de tuplas de informações sobre as transições do AFND. Cada tupla tem:a origem, o símbolo e o destino da transição.\n",
        "-palavras_teste é uma lista de strings de palavras que serão testadas no AFND.\n",
        "\n",
        "*Conjuntos (set)*: Os conjuntos são usados ​​para representar o conjunto de estados atingíveis e os estados finais.\n",
        "\n",
        "- atingiveis é um conjunto de strings de estados atingíveis partindo do estado inicial com uma palavra de teste.\n",
        "-finais é um conjunto de strings de estados finais do AFND.\n",
        "\n",
        "*Tuplas*: As transições são representadas como tuplas,elas tem informações de origem, símbolo e destino. As tuplas são armazenadas em uma lista chamada transicoes.\n",
        "\n",
        "Cada tupla possui três elementos:\n",
        "origem: que é uma string que representa o estado de onde a transição sai.\n",
        "símbolo: que é uma string que representa o símbolo do alfabeto utilizado na transição.\n",
        "destino: que é uma string que representa o estado para onde a transição vai.\n",
        "*Strings *: São utilizadas para representar o estado inicial e as palavras de teste.\n",
        "\n"
      ],
      "metadata": {
        "id": "1Mjgv-9bNTiS"
      }
    },
    {
      "cell_type": "markdown",
      "source": [
        "# **Gerenciamento do não determinismo.**\n",
        "O não-determinismo do AFND é gerenciado no algoritmo por meio do conjunto de estados atingíveis. A cada símbolo da palavra de teste, o conjunto de estados atingíveis é atualizado com os novos estados que podem ser alcançados a partir dos estados atuais, considerando todas as possíveis transições para o símbolo atual, sendo o mesmo inicializado com o estado inicial. A cada loop esse conjunto é atualizado com estados que podem ser alcançados a partir dos estados atuais e o simbolo atual, percorrendo todas as transições do AFND e analisando se a origem da transição é um desses estados e se o simbolo da transição é igual ao simbolo atual da palavra em análise. Caso sim, o estado de destino é adicionado ao conjunto de estados atingíveis."
      ],
      "metadata": {
        "id": "b5NDrWK0QMkx"
      }
    },
    {
      "cell_type": "code",
      "source": [
        "# função para simular o AFND\n",
        "def simula_afnd(estados, alfabeto, transicoes, inicial, finais, palavra):\n",
        "    # conjunto de estados atingíveis a partir do estado inicial com a palavra dada\n",
        "    atingiveis = set()\n",
        "    atingiveis.add(inicial)\n",
        "    for simbolo in palavra:\n",
        "        # conjunto de novos estados atingíveis com o símbolo atual\n",
        "        novos_atingiveis = set()\n",
        "        for estado in atingiveis:\n",
        "            # obtém todas as transições possíveis a partir do estado atual e símbolo atual\n",
        "            for origem, simb, destino in transicoes:\n",
        "                if origem == estado and simb == simbolo:\n",
        "                    novos_atingiveis.add(destino)\n",
        "        # atualiza o conjunto de estados atingíveis com os novos estados\n",
        "        atingiveis = novos_atingiveis\n",
        "\n",
        "    # verifica se algum estado atingível é final\n",
        "    for estado in atingiveis:\n",
        "        if estado in finais:\n",
        "            return 'S'\n",
        "    return 'N'"
      ],
      "metadata": {
        "id": "yiqSPymnIfe3"
      },
      "execution_count": 1,
      "outputs": []
    },
    {
      "cell_type": "code",
      "source": [
        "# leitura da entrada\n",
        "estados = input().split()   #lê pelo teclado o conjunto de estados e salva em estados\n",
        "alfabeto = input().split() #lê pelo teclado o conjunto de caracteres que formam o alfabeto da linguagem\n",
        "num_transicoes = int(input()) #lê pelo teclado o numero de transições \n",
        "\n",
        "transicoes = []\n",
        "\n",
        "for i in range(num_transicoes): # lê as linhas de transições e salva no dicionário 'transições'\n",
        "    origem, simb, destino = input().split()\n",
        "    transicoes.append((origem, simb, destino))\n",
        "\n",
        "inicial = input().strip() #lê pelo teclado o estado inicial\n",
        "finais = set(input().split()) # lê pelo teclado a lista de estados finais\n",
        "palavras_teste = input().split() #lê pelo teclado a lista de palavras de teste\n",
        "\n"
      ],
      "metadata": {
        "colab": {
          "base_uri": "https://localhost:8080/"
        },
        "id": "bn7uEqGRIlCf",
        "outputId": "e44f2dfe-3706-486f-ff9b-b3fa6e13435c"
      },
      "execution_count": 4,
      "outputs": [
        {
          "name": "stdout",
          "output_type": "stream",
          "text": [
            "0 1\n",
            "a b \n",
            "3\n",
            "0 a 0\n",
            "0 b 0\n",
            "0 b 1\n",
            "0\n",
            "1\n",
            "a b aba abb\n"
          ]
        }
      ]
    },
    {
      "cell_type": "code",
      "source": [
        "# executa a simulação do AFND para cada palavra de teste\n",
        "for palavra in palavras_teste: #lê palavra por palavra de teste\n",
        "  print(simula_afnd(estados, alfabeto, transicoes, inicial, finais, palavra))\n",
        "  #manda a palavra de teste atual para a função de simulação do AFND recebendo a resposta como retorno o veredito de pertenciemnto da linguagem fornecida"
      ],
      "metadata": {
        "colab": {
          "base_uri": "https://localhost:8080/"
        },
        "id": "W-2NoxhLXQ4r",
        "outputId": "4e887ad5-fb93-4cc4-9257-97d11858e777"
      },
      "execution_count": 5,
      "outputs": [
        {
          "output_type": "stream",
          "name": "stdout",
          "text": [
            "N\n",
            "S\n",
            "N\n",
            "S\n"
          ]
        }
      ]
    }
  ]
}